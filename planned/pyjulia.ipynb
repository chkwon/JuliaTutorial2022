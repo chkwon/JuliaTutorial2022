{
 "cells": [
  {
   "cell_type": "code",
   "execution_count": 1,
   "id": "1a3a1b96",
   "metadata": {},
   "outputs": [],
   "source": [
    "import julia"
   ]
  },
  {
   "cell_type": "code",
   "execution_count": 8,
   "id": "4ca4f90e",
   "metadata": {},
   "outputs": [],
   "source": [
    "from julia import Main as jl"
   ]
  },
  {
   "cell_type": "code",
   "execution_count": 9,
   "id": "35326766",
   "metadata": {},
   "outputs": [
    {
     "data": {
      "text/plain": [
       "0.33790598307594266"
      ]
     },
     "execution_count": 9,
     "metadata": {},
     "output_type": "execute_result"
    }
   ],
   "source": [
    "jl.rand()"
   ]
  },
  {
   "cell_type": "code",
   "execution_count": 10,
   "id": "ecb8365a",
   "metadata": {},
   "outputs": [
    {
     "data": {
      "text/plain": [
       "-0.5440211108893698"
      ]
     },
     "execution_count": 10,
     "metadata": {},
     "output_type": "execute_result"
    }
   ],
   "source": [
    "jl.sin(10)"
   ]
  },
  {
   "cell_type": "code",
   "execution_count": 11,
   "id": "bb8b0efa",
   "metadata": {},
   "outputs": [
    {
     "data": {
      "text/plain": [
       "8.999999999918636"
      ]
     },
     "execution_count": 11,
     "metadata": {},
     "output_type": "execute_result"
    }
   ],
   "source": [
    "jl.eval(\"\"\"\n",
    "\n",
    "using Calculus\n",
    "f(x) = x^2 + 3x\n",
    "df = derivative(f)\n",
    "df(3)\n",
    "\n",
    "\"\"\")"
   ]
  },
  {
   "cell_type": "code",
   "execution_count": 12,
   "id": "bb33be3b",
   "metadata": {},
   "outputs": [
    {
     "data": {
      "text/plain": [
       "8.999999999918636"
      ]
     },
     "execution_count": 12,
     "metadata": {},
     "output_type": "execute_result"
    }
   ],
   "source": [
    "jl.df(3)"
   ]
  },
  {
   "cell_type": "code",
   "execution_count": 13,
   "id": "6836f604",
   "metadata": {},
   "outputs": [
    {
     "data": {
      "text/plain": [
       "4"
      ]
     },
     "execution_count": 13,
     "metadata": {},
     "output_type": "execute_result"
    }
   ],
   "source": [
    "jl.f(1)"
   ]
  },
  {
   "cell_type": "code",
   "execution_count": null,
   "id": "fb015d15",
   "metadata": {},
   "outputs": [],
   "source": []
  },
  {
   "cell_type": "code",
   "execution_count": null,
   "id": "7f768b02",
   "metadata": {},
   "outputs": [],
   "source": []
  }
 ],
 "metadata": {
  "kernelspec": {
   "display_name": "Python 3 (ipykernel)",
   "language": "python",
   "name": "python3"
  },
  "language_info": {
   "codemirror_mode": {
    "name": "ipython",
    "version": 3
   },
   "file_extension": ".py",
   "mimetype": "text/x-python",
   "name": "python",
   "nbconvert_exporter": "python",
   "pygments_lexer": "ipython3",
   "version": "3.9.12"
  }
 },
 "nbformat": 4,
 "nbformat_minor": 5
}
