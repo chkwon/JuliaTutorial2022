{
 "cells": [
  {
   "cell_type": "code",
   "execution_count": null,
   "id": "48d61e19",
   "metadata": {},
   "outputs": [
    {
     "name": "stdout",
     "output_type": "stream",
     "text": [
      "typeof(a) = Vector{Int64}\n",
      "typeof(a) = Vector{Int64}\n"
     ]
    }
   ],
   "source": [
    "a = [1, 2, 3, 4, 5, 6, 7, 8, 9]\n",
    "@show typeof(a)"
   ]
  },
  {
   "cell_type": "code",
   "execution_count": null,
   "id": "64cdbd1d",
   "metadata": {},
   "outputs": [],
   "source": [
    "a[1]"
   ]
  },
  {
   "cell_type": "code",
   "execution_count": null,
   "id": "6c8ed36e",
   "metadata": {},
   "outputs": [],
   "source": [
    "a[3:end]"
   ]
  },
  {
   "cell_type": "code",
   "execution_count": null,
   "id": "a5b6df7e",
   "metadata": {},
   "outputs": [],
   "source": [
    "a[3:end-2]"
   ]
  },
  {
   "cell_type": "code",
   "execution_count": null,
   "id": "b10ca57f",
   "metadata": {},
   "outputs": [],
   "source": [
    "A = [\n",
    "    1 2 3 4 5;\n",
    "    6 7 8 9 10\n",
    "]"
   ]
  },
  {
   "cell_type": "code",
   "execution_count": null,
   "id": "5ff4d0a7",
   "metadata": {},
   "outputs": [],
   "source": [
    "A[:, 3]"
   ]
  },
  {
   "cell_type": "code",
   "execution_count": null,
   "id": "1744a894",
   "metadata": {},
   "outputs": [],
   "source": [
    "A[2, :]"
   ]
  },
  {
   "cell_type": "code",
   "execution_count": null,
   "id": "745e0abb",
   "metadata": {},
   "outputs": [],
   "source": [
    "B = [\n",
    "    4 2 5;\n",
    "    9 -1 3;\n",
    "    2 3 -1\n",
    "]"
   ]
  },
  {
   "cell_type": "code",
   "execution_count": null,
   "id": "9d47c04f",
   "metadata": {},
   "outputs": [],
   "source": [
    "inv(B)"
   ]
  },
  {
   "cell_type": "code",
   "execution_count": null,
   "id": "c3945b03",
   "metadata": {},
   "outputs": [],
   "source": [
    "b = [1, 2, 3]"
   ]
  },
  {
   "cell_type": "code",
   "execution_count": null,
   "id": "b6b68336",
   "metadata": {},
   "outputs": [],
   "source": [
    "x = B \\ b"
   ]
  },
  {
   "cell_type": "code",
   "execution_count": null,
   "id": "872968a3",
   "metadata": {},
   "outputs": [],
   "source": [
    "B * x"
   ]
  },
  {
   "cell_type": "code",
   "execution_count": null,
   "id": "d5f0ab5d",
   "metadata": {},
   "outputs": [],
   "source": [
    "isapprox(B * x, b)"
   ]
  },
  {
   "cell_type": "code",
   "execution_count": null,
   "id": "39bd15dc",
   "metadata": {},
   "outputs": [],
   "source": [
    "Int32 <: Integer"
   ]
  },
  {
   "cell_type": "code",
   "execution_count": null,
   "id": "949513fd",
   "metadata": {},
   "outputs": [],
   "source": [
    "Int64 <: Integer"
   ]
  },
  {
   "cell_type": "code",
   "execution_count": null,
   "id": "c3271c38",
   "metadata": {},
   "outputs": [],
   "source": [
    "Bool <: Integer"
   ]
  },
  {
   "cell_type": "code",
   "execution_count": null,
   "id": "b7fb1c23",
   "metadata": {},
   "outputs": [],
   "source": [
    "Float32 <: AbstractFloat"
   ]
  },
  {
   "cell_type": "code",
   "execution_count": null,
   "id": "87b17974",
   "metadata": {},
   "outputs": [],
   "source": [
    "Integer <: Real <: Number"
   ]
  },
  {
   "cell_type": "code",
   "execution_count": null,
   "id": "be2a8fa6",
   "metadata": {},
   "outputs": [],
   "source": [
    "AbstractFloat <: Real"
   ]
  },
  {
   "cell_type": "code",
   "execution_count": null,
   "id": "ee027fa7",
   "metadata": {},
   "outputs": [],
   "source": []
  },
  {
   "cell_type": "code",
   "execution_count": null,
   "id": "cc91c463",
   "metadata": {},
   "outputs": [],
   "source": [
    "Vector <: Array"
   ]
  },
  {
   "cell_type": "code",
   "execution_count": null,
   "id": "321b46c0",
   "metadata": {},
   "outputs": [],
   "source": [
    "Matrix <: Array"
   ]
  },
  {
   "cell_type": "code",
   "execution_count": null,
   "id": "44ca7637",
   "metadata": {},
   "outputs": [],
   "source": [
    "using SparseArrays\n",
    "SparseVector <: Array"
   ]
  },
  {
   "cell_type": "code",
   "execution_count": null,
   "id": "25a70b3c",
   "metadata": {},
   "outputs": [],
   "source": [
    "SparseVector <: AbstractVector <: AbstractArray"
   ]
  },
  {
   "cell_type": "code",
   "execution_count": null,
   "id": "c955f63d",
   "metadata": {},
   "outputs": [],
   "source": [
    "SparseMatrixCSC <: AbstractMatrix <: AbstractArray"
   ]
  },
  {
   "cell_type": "code",
   "execution_count": null,
   "id": "00f3dce0",
   "metadata": {},
   "outputs": [],
   "source": [
    "내꺼 = 10\n",
    "니꺼 = 20\n",
    "합 = 내꺼 + 니꺼"
   ]
  },
  {
   "cell_type": "code",
   "execution_count": null,
   "id": "7f840328",
   "metadata": {},
   "outputs": [],
   "source": [
    "λ = 10\n",
    "λ^2"
   ]
  },
  {
   "cell_type": "code",
   "execution_count": null,
   "id": "62142826",
   "metadata": {},
   "outputs": [],
   "source": [
    "Γ = [1, 3, 5, 87, 2, 5]\n",
    "for γ ∈ Γ\n",
    "    @show γ\n",
    "end"
   ]
  },
  {
   "cell_type": "code",
   "execution_count": null,
   "id": "1c3af3c8",
   "metadata": {},
   "outputs": [],
   "source": [
    "🍎 = 23.4\n",
    "🍋 = 🍎^2\n",
    "🍉 = 30"
   ]
  },
  {
   "cell_type": "code",
   "execution_count": null,
   "id": "b1e37dc9",
   "metadata": {},
   "outputs": [],
   "source": [
    "fruits = [🍎, 🍋, 🍉]"
   ]
  },
  {
   "cell_type": "code",
   "execution_count": null,
   "id": "89999808",
   "metadata": {},
   "outputs": [],
   "source": [
    "numbers = [1, 2, 3, 4, 5]\n",
    "result = [x^2 for x in numbers]"
   ]
  },
  {
   "cell_type": "code",
   "execution_count": null,
   "id": "58468ef5",
   "metadata": {},
   "outputs": [],
   "source": [
    "function 일해라(너)\n",
    "    return 너^2\n",
    "end\n",
    "너님 = 10\n",
    "일해라(너님)"
   ]
  },
  {
   "cell_type": "code",
   "execution_count": null,
   "id": "bcf166be",
   "metadata": {},
   "outputs": [],
   "source": []
  },
  {
   "cell_type": "code",
   "execution_count": null,
   "id": "764964f2",
   "metadata": {},
   "outputs": [],
   "source": [
    "function f(x)\n",
    "    return x^3 + 2x + 10\n",
    "end"
   ]
  },
  {
   "cell_type": "code",
   "execution_count": null,
   "id": "6367d536",
   "metadata": {},
   "outputs": [],
   "source": [
    "g(x) = x^3 + 2x + 10"
   ]
  },
  {
   "cell_type": "code",
   "execution_count": null,
   "id": "629f5f51",
   "metadata": {},
   "outputs": [],
   "source": [
    "g(10)"
   ]
  },
  {
   "cell_type": "code",
   "execution_count": null,
   "id": "c769268e",
   "metadata": {},
   "outputs": [],
   "source": [
    "using Calculus\n",
    "df = Calculus.derivative(f)\n",
    "dg = Calculus.derivative(g)"
   ]
  },
  {
   "cell_type": "code",
   "execution_count": null,
   "id": "93bdf9b1",
   "metadata": {},
   "outputs": [],
   "source": [
    "df(1), dg(1)"
   ]
  },
  {
   "cell_type": "code",
   "execution_count": null,
   "id": "1b5d3258",
   "metadata": {},
   "outputs": [],
   "source": [
    "using ForwardDiff\n",
    "ForwardDiff.derivative(f, 1)"
   ]
  },
  {
   "cell_type": "code",
   "execution_count": null,
   "id": "4a24402c",
   "metadata": {},
   "outputs": [],
   "source": [
    "df2 = x -> ForwardDiff.derivative(f, x)"
   ]
  },
  {
   "cell_type": "code",
   "execution_count": null,
   "id": "d3f1ce9f",
   "metadata": {},
   "outputs": [],
   "source": [
    "df2(1)"
   ]
  },
  {
   "cell_type": "code",
   "execution_count": null,
   "id": "f1803e9a",
   "metadata": {},
   "outputs": [],
   "source": [
    "y = rand(10)"
   ]
  },
  {
   "cell_type": "code",
   "execution_count": null,
   "id": "fa475d0c",
   "metadata": {},
   "outputs": [],
   "source": [
    "z = rand(1:10, 5)"
   ]
  },
  {
   "cell_type": "code",
   "execution_count": null,
   "id": "718c7c59",
   "metadata": {},
   "outputs": [],
   "source": [
    "x = rand(Int, 3)"
   ]
  },
  {
   "cell_type": "code",
   "execution_count": null,
   "id": "bfaac799",
   "metadata": {},
   "outputs": [],
   "source": [
    "?rand"
   ]
  },
  {
   "cell_type": "code",
   "execution_count": null,
   "id": "9cb269dd",
   "metadata": {},
   "outputs": [],
   "source": [
    "z = randn(5)"
   ]
  },
  {
   "cell_type": "code",
   "execution_count": null,
   "id": "ccf95b2b",
   "metadata": {},
   "outputs": [],
   "source": [
    "using Distributions\n",
    "d = Normal()\n",
    "x = rand(d, 5)"
   ]
  },
  {
   "cell_type": "code",
   "execution_count": null,
   "id": "d6bfa665",
   "metadata": {},
   "outputs": [],
   "source": [
    "d"
   ]
  },
  {
   "cell_type": "code",
   "execution_count": null,
   "id": "e86f2f13",
   "metadata": {},
   "outputs": [],
   "source": [
    "d = Binomial(2, 0.3)"
   ]
  },
  {
   "cell_type": "code",
   "execution_count": null,
   "id": "9ae4a104",
   "metadata": {},
   "outputs": [],
   "source": [
    "x = rand(d, 5)"
   ]
  },
  {
   "cell_type": "code",
   "execution_count": null,
   "id": "24052e9e",
   "metadata": {},
   "outputs": [],
   "source": []
  }
 ],
 "metadata": {
  "kernelspec": {
   "display_name": "Julia 1.7.2",
   "language": "julia",
   "name": "julia-1.7"
  },
  "language_info": {
   "file_extension": ".jl",
   "mimetype": "application/julia",
   "name": "julia",
   "version": "1.7.2"
  }
 },
 "nbformat": 4,
 "nbformat_minor": 5
}
