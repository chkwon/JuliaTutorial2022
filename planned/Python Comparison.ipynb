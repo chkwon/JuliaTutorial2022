{
 "cells": [
  {
   "cell_type": "code",
   "execution_count": 4,
   "id": "a799b3e0",
   "metadata": {},
   "outputs": [
    {
     "name": "stdout",
     "output_type": "stream",
     "text": [
      "<class 'list'>\n"
     ]
    }
   ],
   "source": [
    "a = [1, 2, 3, 4, 5, 6, 7, 8, 9]\n",
    "\n",
    "print(type(a))"
   ]
  },
  {
   "cell_type": "code",
   "execution_count": 3,
   "id": "d79f779c",
   "metadata": {},
   "outputs": [
    {
     "data": {
      "text/plain": [
       "1"
      ]
     },
     "execution_count": 3,
     "metadata": {},
     "output_type": "execute_result"
    }
   ],
   "source": [
    "a[0]"
   ]
  },
  {
   "cell_type": "code",
   "execution_count": 5,
   "id": "151d677f",
   "metadata": {},
   "outputs": [
    {
     "data": {
      "text/plain": [
       "[3, 4, 5, 6, 7, 8, 9]"
      ]
     },
     "execution_count": 5,
     "metadata": {},
     "output_type": "execute_result"
    }
   ],
   "source": [
    "a[2:]"
   ]
  },
  {
   "cell_type": "code",
   "execution_count": 6,
   "id": "e0778cb8",
   "metadata": {},
   "outputs": [
    {
     "data": {
      "text/plain": [
       "[3, 4, 5, 6, 7]"
      ]
     },
     "execution_count": 6,
     "metadata": {},
     "output_type": "execute_result"
    }
   ],
   "source": [
    "a[2:-2]"
   ]
  },
  {
   "cell_type": "code",
   "execution_count": 9,
   "id": "f1bdb903",
   "metadata": {},
   "outputs": [
    {
     "name": "stdout",
     "output_type": "stream",
     "text": [
      "[[1, 2, 3, 4, 5], [6, 7, 8, 9, 10]]\n",
      "<class 'list'>\n"
     ]
    }
   ],
   "source": [
    "A = [\n",
    "    [1, 2, 3, 4, 5],\n",
    "    [6, 7, 8, 9, 10]\n",
    "]\n",
    "print(A)\n",
    "print(type(A))"
   ]
  },
  {
   "cell_type": "code",
   "execution_count": 11,
   "id": "b803d55c",
   "metadata": {},
   "outputs": [],
   "source": [
    "import numpy as np\n",
    "A = np.array(A)"
   ]
  },
  {
   "cell_type": "code",
   "execution_count": 16,
   "id": "19661ba7",
   "metadata": {},
   "outputs": [
    {
     "data": {
      "text/plain": [
       "array([3, 8])"
      ]
     },
     "execution_count": 16,
     "metadata": {},
     "output_type": "execute_result"
    }
   ],
   "source": [
    "A[:, 2]"
   ]
  },
  {
   "cell_type": "code",
   "execution_count": 17,
   "id": "8346a6fb",
   "metadata": {},
   "outputs": [
    {
     "data": {
      "text/plain": [
       "array([ 6,  7,  8,  9, 10])"
      ]
     },
     "execution_count": 17,
     "metadata": {},
     "output_type": "execute_result"
    }
   ],
   "source": [
    "A[1, :]"
   ]
  },
  {
   "cell_type": "code",
   "execution_count": 19,
   "id": "3aff414b",
   "metadata": {},
   "outputs": [],
   "source": [
    "B = np.array([\n",
    "    [4, 2, 5],\n",
    "    [9, -1, 3],\n",
    "    [2, 3, -1]\n",
    "])"
   ]
  },
  {
   "cell_type": "code",
   "execution_count": 23,
   "id": "a6cf0a55",
   "metadata": {},
   "outputs": [
    {
     "data": {
      "text/plain": [
       "array([[-0.05594406,  0.11888112,  0.07692308],\n",
       "       [ 0.1048951 , -0.0979021 ,  0.23076923],\n",
       "       [ 0.2027972 , -0.05594406, -0.15384615]])"
      ]
     },
     "execution_count": 23,
     "metadata": {},
     "output_type": "execute_result"
    }
   ],
   "source": [
    "np.linalg.inv(B)"
   ]
  },
  {
   "cell_type": "code",
   "execution_count": 24,
   "id": "998b6f1e",
   "metadata": {},
   "outputs": [],
   "source": [
    "λ = 10"
   ]
  },
  {
   "cell_type": "code",
   "execution_count": 25,
   "id": "f0c4b40c",
   "metadata": {},
   "outputs": [
    {
     "ename": "SyntaxError",
     "evalue": "invalid character '🍎' (U+1F34E) (3762144854.py, line 1)",
     "output_type": "error",
     "traceback": [
      "\u001b[0;36m  Input \u001b[0;32mIn [25]\u001b[0;36m\u001b[0m\n\u001b[0;31m    🍎 = 23.4\u001b[0m\n\u001b[0m    ^\u001b[0m\n\u001b[0;31mSyntaxError\u001b[0m\u001b[0;31m:\u001b[0m invalid character '🍎' (U+1F34E)\n"
     ]
    }
   ],
   "source": [
    "🍎 = 23.4"
   ]
  },
  {
   "cell_type": "code",
   "execution_count": 27,
   "id": "26204c4f",
   "metadata": {},
   "outputs": [],
   "source": [
    "내꺼 = 10"
   ]
  },
  {
   "cell_type": "code",
   "execution_count": 35,
   "id": "406d2554",
   "metadata": {},
   "outputs": [
    {
     "data": {
      "text/plain": [
       "100"
      ]
     },
     "execution_count": 35,
     "metadata": {},
     "output_type": "execute_result"
    }
   ],
   "source": [
    "def 일해라(너):\n",
    "    return 너 ** 2\n",
    "너님 = 10\n",
    "일해라(너님)"
   ]
  },
  {
   "cell_type": "code",
   "execution_count": 34,
   "id": "5882bc3e",
   "metadata": {},
   "outputs": [
    {
     "name": "stdout",
     "output_type": "stream",
     "text": [
      "[1, 4, 9, 16, 25]\n"
     ]
    }
   ],
   "source": [
    "numbers = [1, 2, 3, 4, 5]\n",
    "result = [x ** 2 for x in numbers]\n",
    "print(result)"
   ]
  },
  {
   "cell_type": "code",
   "execution_count": null,
   "id": "b970ffab",
   "metadata": {},
   "outputs": [],
   "source": []
  }
 ],
 "metadata": {
  "kernelspec": {
   "display_name": "Python 3 (ipykernel)",
   "language": "python",
   "name": "python3"
  },
  "language_info": {
   "codemirror_mode": {
    "name": "ipython",
    "version": 3
   },
   "file_extension": ".py",
   "mimetype": "text/x-python",
   "name": "python",
   "nbconvert_exporter": "python",
   "pygments_lexer": "ipython3",
   "version": "3.9.12"
  }
 },
 "nbformat": 4,
 "nbformat_minor": 5
}
