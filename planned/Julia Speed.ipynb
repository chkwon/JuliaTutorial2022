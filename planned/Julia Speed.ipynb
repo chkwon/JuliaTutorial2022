{
 "cells": [
  {
   "cell_type": "code",
   "execution_count": 1,
   "id": "92d1d337",
   "metadata": {},
   "outputs": [
    {
     "data": {
      "text/plain": [
       "fib (generic function with 1 method)"
      ]
     },
     "execution_count": 1,
     "metadata": {},
     "output_type": "execute_result"
    }
   ],
   "source": [
    "fib(n) = n < 2 ? n : fib(n-1) + fib(n-2)"
   ]
  },
  {
   "cell_type": "code",
   "execution_count": 2,
   "id": "73aa6ce6",
   "metadata": {},
   "outputs": [
    {
     "data": {
      "text/plain": [
       "55"
      ]
     },
     "execution_count": 2,
     "metadata": {},
     "output_type": "execute_result"
    }
   ],
   "source": [
    "fib(10)"
   ]
  },
  {
   "cell_type": "code",
   "execution_count": 3,
   "id": "84032b57",
   "metadata": {},
   "outputs": [
    {
     "name": "stdout",
     "output_type": "stream",
     "text": [
      "  0.004160 seconds\n"
     ]
    },
    {
     "data": {
      "text/plain": [
       "832040"
      ]
     },
     "execution_count": 3,
     "metadata": {},
     "output_type": "execute_result"
    }
   ],
   "source": [
    "@time fib(30)"
   ]
  },
  {
   "cell_type": "code",
   "execution_count": 4,
   "id": "af60246f",
   "metadata": {},
   "outputs": [
    {
     "data": {
      "text/plain": [
       "BenchmarkTools.Trial: 1291 samples with 1 evaluation.\n",
       " Range \u001b[90m(\u001b[39m\u001b[36m\u001b[1mmin\u001b[22m\u001b[39m … \u001b[35mmax\u001b[39m\u001b[90m):  \u001b[39m\u001b[36m\u001b[1m3.491 ms\u001b[22m\u001b[39m … \u001b[35m  5.473 ms\u001b[39m  \u001b[90m┊\u001b[39m GC \u001b[90m(\u001b[39mmin … max\u001b[90m): \u001b[39m0.00% … 0.00%\n",
       " Time  \u001b[90m(\u001b[39m\u001b[34m\u001b[1mmedian\u001b[22m\u001b[39m\u001b[90m):     \u001b[39m\u001b[34m\u001b[1m3.994 ms               \u001b[22m\u001b[39m\u001b[90m┊\u001b[39m GC \u001b[90m(\u001b[39mmedian\u001b[90m):    \u001b[39m0.00%\n",
       " Time  \u001b[90m(\u001b[39m\u001b[32m\u001b[1mmean\u001b[22m\u001b[39m ± \u001b[32mσ\u001b[39m\u001b[90m):   \u001b[39m\u001b[32m\u001b[1m3.870 ms\u001b[22m\u001b[39m ± \u001b[32m257.846 μs\u001b[39m  \u001b[90m┊\u001b[39m GC \u001b[90m(\u001b[39mmean ± σ\u001b[90m):  \u001b[39m0.00% ± 0.00%\n",
       "\n",
       "  \u001b[39m \u001b[39m▄\u001b[39m \u001b[39m \u001b[39m \u001b[39m \u001b[39m \u001b[39m \u001b[39m \u001b[39m \u001b[39m \u001b[39m \u001b[39m \u001b[39m \u001b[39m \u001b[39m \u001b[39m \u001b[39m \u001b[39m \u001b[39m \u001b[39m \u001b[32m \u001b[39m\u001b[39m \u001b[39m \u001b[39m \u001b[39m \u001b[39m \u001b[39m \u001b[34m▇\u001b[39m\u001b[39m \u001b[39m█\u001b[39m▁\u001b[39m \u001b[39m \u001b[39m \u001b[39m \u001b[39m \u001b[39m \u001b[39m \u001b[39m \u001b[39m \u001b[39m \u001b[39m \u001b[39m \u001b[39m \u001b[39m \u001b[39m \u001b[39m \u001b[39m \u001b[39m \u001b[39m \u001b[39m \u001b[39m \u001b[39m \u001b[39m \u001b[39m \u001b[39m \u001b[39m \u001b[39m \u001b[39m \u001b[39m \n",
       "  \u001b[39m▄\u001b[39m█\u001b[39m▄\u001b[39m▇\u001b[39m█\u001b[39m▃\u001b[39m▃\u001b[39m▃\u001b[39m▄\u001b[39m▄\u001b[39m▃\u001b[39m▄\u001b[39m▃\u001b[39m▃\u001b[39m▃\u001b[39m▃\u001b[39m▂\u001b[39m▂\u001b[39m▃\u001b[39m▃\u001b[39m▂\u001b[32m▃\u001b[39m\u001b[39m▂\u001b[39m▃\u001b[39m▂\u001b[39m▂\u001b[39m▅\u001b[39m▅\u001b[34m█\u001b[39m\u001b[39m▅\u001b[39m█\u001b[39m█\u001b[39m▄\u001b[39m▄\u001b[39m▃\u001b[39m▃\u001b[39m▃\u001b[39m▃\u001b[39m▂\u001b[39m▃\u001b[39m▂\u001b[39m▂\u001b[39m▂\u001b[39m▂\u001b[39m▂\u001b[39m▂\u001b[39m▁\u001b[39m▂\u001b[39m▂\u001b[39m▂\u001b[39m▂\u001b[39m▂\u001b[39m▂\u001b[39m▂\u001b[39m▂\u001b[39m▁\u001b[39m▂\u001b[39m▂\u001b[39m▂\u001b[39m \u001b[39m▃\n",
       "  3.49 ms\u001b[90m         Histogram: frequency by time\u001b[39m        4.55 ms \u001b[0m\u001b[1m<\u001b[22m\n",
       "\n",
       " Memory estimate\u001b[90m: \u001b[39m\u001b[33m0 bytes\u001b[39m, allocs estimate\u001b[90m: \u001b[39m\u001b[33m0\u001b[39m."
      ]
     },
     "execution_count": 4,
     "metadata": {},
     "output_type": "execute_result"
    }
   ],
   "source": [
    "using BenchmarkTools\n",
    "@benchmark fib(30)"
   ]
  },
  {
   "cell_type": "code",
   "execution_count": 5,
   "id": "63eafda3",
   "metadata": {},
   "outputs": [
    {
     "name": "stdout",
     "output_type": "stream",
     "text": [
      "  0.470541 seconds\n"
     ]
    },
    {
     "data": {
      "text/plain": [
       "102334155"
      ]
     },
     "execution_count": 5,
     "metadata": {},
     "output_type": "execute_result"
    }
   ],
   "source": [
    "@time fib(40)"
   ]
  },
  {
   "cell_type": "code",
   "execution_count": 6,
   "id": "65a1c0d4",
   "metadata": {},
   "outputs": [
    {
     "name": "stdout",
     "output_type": "stream",
     "text": [
      "#include <stdio.h>\n",
      "\n",
      "int fib(int n) {\n",
      "\treturn n < 2 ? n : fib(n-1) + fib(n-2);\n",
      "}\n",
      "\n",
      "int main() {\n",
      "\tprintf(\"Hello, C Fib\\n\");\n",
      "    return 0;\n",
      "}\n"
     ]
    }
   ],
   "source": [
    ";cat fib.c"
   ]
  },
  {
   "cell_type": "code",
   "execution_count": 7,
   "id": "e7aca17c",
   "metadata": {},
   "outputs": [],
   "source": [
    ";gcc -O2 -fPIC -shared fib.c -o libfib.dylib"
   ]
  },
  {
   "cell_type": "code",
   "execution_count": 8,
   "id": "057cc3e8",
   "metadata": {},
   "outputs": [
    {
     "data": {
      "text/plain": [
       "Int32"
      ]
     },
     "execution_count": 8,
     "metadata": {},
     "output_type": "execute_result"
    }
   ],
   "source": [
    "Cint"
   ]
  },
  {
   "cell_type": "code",
   "execution_count": 9,
   "id": "80236a04",
   "metadata": {},
   "outputs": [
    {
     "data": {
      "text/plain": [
       "cfib (generic function with 1 method)"
      ]
     },
     "execution_count": 9,
     "metadata": {},
     "output_type": "execute_result"
    }
   ],
   "source": [
    "cfib(n) = ccall((:fib, \"libfib\"), Cint, (Cint,), n)"
   ]
  },
  {
   "cell_type": "code",
   "execution_count": 10,
   "id": "382ac497",
   "metadata": {},
   "outputs": [
    {
     "name": "stdout",
     "output_type": "stream",
     "text": [
      "  0.000009 seconds\n"
     ]
    },
    {
     "data": {
      "text/plain": [
       "55"
      ]
     },
     "execution_count": 10,
     "metadata": {},
     "output_type": "execute_result"
    }
   ],
   "source": [
    "@time cfib(10)"
   ]
  },
  {
   "cell_type": "code",
   "execution_count": 11,
   "id": "ce17c409",
   "metadata": {},
   "outputs": [
    {
     "name": "stdout",
     "output_type": "stream",
     "text": [
      "  0.002805 seconds\n"
     ]
    },
    {
     "data": {
      "text/plain": [
       "832040"
      ]
     },
     "execution_count": 11,
     "metadata": {},
     "output_type": "execute_result"
    }
   ],
   "source": [
    "@time cfib(30)"
   ]
  },
  {
   "cell_type": "code",
   "execution_count": 12,
   "id": "93817576",
   "metadata": {},
   "outputs": [
    {
     "data": {
      "text/plain": [
       "BenchmarkTools.Trial: 2197 samples with 1 evaluation.\n",
       " Range \u001b[90m(\u001b[39m\u001b[36m\u001b[1mmin\u001b[22m\u001b[39m … \u001b[35mmax\u001b[39m\u001b[90m):  \u001b[39m\u001b[36m\u001b[1m2.080 ms\u001b[22m\u001b[39m … \u001b[35m  3.490 ms\u001b[39m  \u001b[90m┊\u001b[39m GC \u001b[90m(\u001b[39mmin … max\u001b[90m): \u001b[39m0.00% … 0.00%\n",
       " Time  \u001b[90m(\u001b[39m\u001b[34m\u001b[1mmedian\u001b[22m\u001b[39m\u001b[90m):     \u001b[39m\u001b[34m\u001b[1m2.247 ms               \u001b[22m\u001b[39m\u001b[90m┊\u001b[39m GC \u001b[90m(\u001b[39mmedian\u001b[90m):    \u001b[39m0.00%\n",
       " Time  \u001b[90m(\u001b[39m\u001b[32m\u001b[1mmean\u001b[22m\u001b[39m ± \u001b[32mσ\u001b[39m\u001b[90m):   \u001b[39m\u001b[32m\u001b[1m2.272 ms\u001b[22m\u001b[39m ± \u001b[32m177.891 μs\u001b[39m  \u001b[90m┊\u001b[39m GC \u001b[90m(\u001b[39mmean ± σ\u001b[90m):  \u001b[39m0.00% ± 0.00%\n",
       "\n",
       "  \u001b[39m█\u001b[39m▅\u001b[39m \u001b[39m▂\u001b[39m▃\u001b[39m▁\u001b[39m \u001b[39m \u001b[39m \u001b[39m▄\u001b[39m▃\u001b[39m▂\u001b[39m▁\u001b[39m \u001b[34m \u001b[39m\u001b[39m \u001b[39m \u001b[32m \u001b[39m\u001b[39m \u001b[39m \u001b[39m \u001b[39m \u001b[39m \u001b[39m \u001b[39m█\u001b[39m▃\u001b[39m▁\u001b[39m▁\u001b[39m▁\u001b[39m▁\u001b[39m▁\u001b[39m▁\u001b[39m \u001b[39m \u001b[39m \u001b[39m \u001b[39m \u001b[39m \u001b[39m \u001b[39m \u001b[39m \u001b[39m \u001b[39m \u001b[39m \u001b[39m \u001b[39m \u001b[39m \u001b[39m \u001b[39m \u001b[39m \u001b[39m \u001b[39m \u001b[39m \u001b[39m \u001b[39m \u001b[39m \u001b[39m \u001b[39m \u001b[39m \u001b[39m \u001b[39m \n",
       "  \u001b[39m█\u001b[39m█\u001b[39m▆\u001b[39m█\u001b[39m█\u001b[39m█\u001b[39m▅\u001b[39m▇\u001b[39m▆\u001b[39m█\u001b[39m█\u001b[39m█\u001b[39m█\u001b[39m▇\u001b[34m█\u001b[39m\u001b[39m▇\u001b[39m█\u001b[32m▇\u001b[39m\u001b[39m▇\u001b[39m▅\u001b[39m▆\u001b[39m▆\u001b[39m▆\u001b[39m▇\u001b[39m█\u001b[39m█\u001b[39m█\u001b[39m█\u001b[39m█\u001b[39m█\u001b[39m█\u001b[39m█\u001b[39m█\u001b[39m█\u001b[39m█\u001b[39m▆\u001b[39m█\u001b[39m▆\u001b[39m▇\u001b[39m█\u001b[39m▇\u001b[39m▆\u001b[39m▇\u001b[39m▆\u001b[39m▆\u001b[39m▇\u001b[39m▇\u001b[39m▆\u001b[39m▆\u001b[39m▅\u001b[39m▅\u001b[39m▆\u001b[39m▄\u001b[39m▅\u001b[39m▄\u001b[39m▄\u001b[39m▃\u001b[39m▄\u001b[39m▄\u001b[39m \u001b[39m█\n",
       "  2.08 ms\u001b[90m      \u001b[39m\u001b[90mHistogram: \u001b[39m\u001b[90m\u001b[1mlog(\u001b[22m\u001b[39m\u001b[90mfrequency\u001b[39m\u001b[90m\u001b[1m)\u001b[22m\u001b[39m\u001b[90m by time\u001b[39m      2.76 ms \u001b[0m\u001b[1m<\u001b[22m\n",
       "\n",
       " Memory estimate\u001b[90m: \u001b[39m\u001b[33m0 bytes\u001b[39m, allocs estimate\u001b[90m: \u001b[39m\u001b[33m0\u001b[39m."
      ]
     },
     "execution_count": 12,
     "metadata": {},
     "output_type": "execute_result"
    }
   ],
   "source": [
    "@benchmark cfib(30)"
   ]
  },
  {
   "cell_type": "code",
   "execution_count": 13,
   "id": "c854a974",
   "metadata": {},
   "outputs": [
    {
     "name": "stdout",
     "output_type": "stream",
     "text": [
      "  0.300954 seconds\n"
     ]
    },
    {
     "data": {
      "text/plain": [
       "102334155"
      ]
     },
     "execution_count": 13,
     "metadata": {},
     "output_type": "execute_result"
    }
   ],
   "source": [
    "@time cfib(40)"
   ]
  },
  {
   "cell_type": "code",
   "execution_count": 14,
   "id": "dfa06c79",
   "metadata": {},
   "outputs": [
    {
     "name": "stdout",
     "output_type": "stream",
     "text": [
      "  0.477215 seconds\n"
     ]
    },
    {
     "data": {
      "text/plain": [
       "102334155"
      ]
     },
     "execution_count": 14,
     "metadata": {},
     "output_type": "execute_result"
    }
   ],
   "source": [
    "@time fib(40)"
   ]
  },
  {
   "cell_type": "code",
   "execution_count": 15,
   "id": "76a00349",
   "metadata": {},
   "outputs": [
    {
     "data": {
      "text/plain": [
       "addone! (generic function with 1 method)"
      ]
     },
     "execution_count": 15,
     "metadata": {},
     "output_type": "execute_result"
    }
   ],
   "source": [
    "function addone!(x::Vector)\n",
    "    for i in 1:length(x)\n",
    "        x[i] += 1\n",
    "    end\n",
    "end"
   ]
  },
  {
   "cell_type": "code",
   "execution_count": 16,
   "id": "9574ecbe",
   "metadata": {},
   "outputs": [
    {
     "name": "stdout",
     "output_type": "stream",
     "text": [
      "  0.007113 seconds (14.73 k allocations: 850.331 KiB, 90.52% compilation time)\n"
     ]
    }
   ],
   "source": [
    "x = ones(Int, 1000000);\n",
    "@time addone!(x)"
   ]
  },
  {
   "cell_type": "code",
   "execution_count": 17,
   "id": "083f0da5",
   "metadata": {},
   "outputs": [
    {
     "name": "stdout",
     "output_type": "stream",
     "text": [
      "#include <stdio.h>\n",
      "\n",
      "void addone32(int * x, int n) {\n",
      "\tfor (int i=0; i < n; i++) {\n",
      "\t\tx[i] += 1;\n",
      "\t}\n",
      "}\n",
      "\n",
      "void addone64(long * x, long n) {\n",
      "\tfor (int i=0; i < n; i++) {\n",
      "\t\tx[i] += 1;\n",
      "\t}\n",
      "}\n",
      "\n",
      "\n",
      "int main() {\n",
      "\tprintf(\"Hello, C addone\\n\");\n",
      "    return 0;\n",
      "}\n"
     ]
    }
   ],
   "source": [
    ";cat addone.c"
   ]
  },
  {
   "cell_type": "code",
   "execution_count": 18,
   "id": "367906f6",
   "metadata": {},
   "outputs": [],
   "source": [
    ";gcc -O2 -fPIC -shared addone.c -o libaddone.dylib"
   ]
  },
  {
   "cell_type": "code",
   "execution_count": 19,
   "id": "e01f3234",
   "metadata": {},
   "outputs": [
    {
     "data": {
      "text/plain": [
       "(Int32, Int64)"
      ]
     },
     "execution_count": 19,
     "metadata": {},
     "output_type": "execute_result"
    }
   ],
   "source": [
    "Cint, Clong"
   ]
  },
  {
   "cell_type": "code",
   "execution_count": 20,
   "id": "387fa425",
   "metadata": {},
   "outputs": [],
   "source": [
    "caddone!(x::Vector{Int32}) = ccall((:addone32, \"libaddone\"), Cvoid, (Ptr{Cint}, Cint), x, length(x))\n",
    "caddone!(x::Vector{Int64}) = ccall((:addone64, \"libaddone\"), Cvoid, (Ptr{Clong}, Clong), x, length(x))\n",
    "caddone!(ones(Cint, 3))\n",
    "caddone!(ones(Clong, 3))"
   ]
  },
  {
   "cell_type": "code",
   "execution_count": null,
   "id": "b9ec97e4",
   "metadata": {},
   "outputs": [],
   "source": [
    "n = 10000\n",
    "@btime addone!(x) setup=(x=ones(Cint, n)) \n",
    "@btime caddone!(x) setup=(x=ones(Cint, n)) "
   ]
  },
  {
   "cell_type": "code",
   "execution_count": null,
   "id": "c1b36536",
   "metadata": {},
   "outputs": [],
   "source": [
    "@btime addone!(x) setup=(x=ones(Clong, n)) \n",
    "@btime caddone!(x) setup=(x=ones(Clong, n)) "
   ]
  },
  {
   "cell_type": "code",
   "execution_count": null,
   "id": "ac5e7148",
   "metadata": {},
   "outputs": [],
   "source": [
    "function addone_inbounds!(x::Vector)\n",
    "    @inbounds for i in 1:length(x)\n",
    "        x[i] += 1\n",
    "    end\n",
    "end\n",
    "addone_inbounds!(ones(Cint, 3))\n",
    "addone_inbounds!(ones(Clong, 3))"
   ]
  },
  {
   "cell_type": "code",
   "execution_count": null,
   "id": "be317664",
   "metadata": {},
   "outputs": [],
   "source": [
    "@btime addone_inbounds!(x) setup=(x=ones(Cint, n))\n",
    "@btime addone_inbounds!(x) setup=(x=ones(Clong, n))"
   ]
  },
  {
   "cell_type": "code",
   "execution_count": null,
   "id": "4460d134",
   "metadata": {},
   "outputs": [],
   "source": [
    "k = 100\n",
    "A = ones(k, k)\n",
    "B = ones(k, k)\n",
    "@time A * B;"
   ]
  },
  {
   "cell_type": "code",
   "execution_count": null,
   "id": "6a0b1fce",
   "metadata": {},
   "outputs": [],
   "source": [
    "@btime A * B;"
   ]
  },
  {
   "cell_type": "code",
   "execution_count": null,
   "id": "7c0634b8",
   "metadata": {},
   "outputs": [],
   "source": [
    "using LinearAlgebra \n",
    "k = 10000\n",
    "A = ones(k)\n",
    "B = ones(k)\n",
    "@time dot(A, B)"
   ]
  },
  {
   "cell_type": "code",
   "execution_count": null,
   "id": "05ab4bad",
   "metadata": {},
   "outputs": [],
   "source": [
    "@btime dot(A, B)"
   ]
  },
  {
   "cell_type": "code",
   "execution_count": null,
   "id": "dee805d0",
   "metadata": {},
   "outputs": [],
   "source": []
  }
 ],
 "metadata": {
  "kernelspec": {
   "display_name": "Julia 1.7.2",
   "language": "julia",
   "name": "julia-1.7"
  },
  "language_info": {
   "file_extension": ".jl",
   "mimetype": "application/julia",
   "name": "julia",
   "version": "1.7.2"
  }
 },
 "nbformat": 4,
 "nbformat_minor": 5
}
