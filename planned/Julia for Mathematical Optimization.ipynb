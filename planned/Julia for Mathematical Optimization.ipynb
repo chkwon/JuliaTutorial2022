{
 "cells": [
  {
   "cell_type": "code",
   "execution_count": 5,
   "id": "ec1edd47",
   "metadata": {},
   "outputs": [
    {
     "data": {
      "text/latex": [
       "$$ \\begin{aligned}\n",
       "\\max\\quad & x_{1} + x_{2} + x_{3}\\\\\n",
       "\\text{Subject to} \\quad & -x_{1} + x_{2} - 2 x_{3} \\geq 5.0\\\\\n",
       " & x_{1} + x_{2} + 2 x_{3} \\leq 10.0\\\\\n",
       " & x_{1} \\geq 0.0\\\\\n",
       " & x_{2} \\geq 0.0\\\\\n",
       " & x_{3} \\geq 0.0\\\\\n",
       "\\end{aligned} $$"
      ]
     },
     "metadata": {},
     "output_type": "display_data"
    }
   ],
   "source": [
    "using JuMP, GLPK\n",
    "m = Model(GLPK.Optimizer)\n",
    "@variable(m, x[1:3] >=0)\n",
    "@objective(m, Max, sum(x))\n",
    "@constraint(m, x[1] + x[2] + 2 * x[3] <= 10)\n",
    "@constraint(m, -x[1] + x[2] - 2 * x[3] >= 5)\n",
    "print(m)"
   ]
  },
  {
   "cell_type": "code",
   "execution_count": 6,
   "id": "706598fa",
   "metadata": {},
   "outputs": [],
   "source": [
    "optimize!(m)"
   ]
  },
  {
   "cell_type": "code",
   "execution_count": 10,
   "id": "4e0cb15c",
   "metadata": {},
   "outputs": [
    {
     "name": "stdout",
     "output_type": "stream",
     "text": [
      "value.(x) = [2.5, 7.5, 0.0]\n",
      "objective_value(m) = 10.0\n"
     ]
    },
    {
     "data": {
      "text/plain": [
       "10.0"
      ]
     },
     "execution_count": 10,
     "metadata": {},
     "output_type": "execute_result"
    }
   ],
   "source": [
    "@show value.(x)\n",
    "@show objective_value(m)"
   ]
  },
  {
   "cell_type": "code",
   "execution_count": 12,
   "id": "6908fc57",
   "metadata": {},
   "outputs": [
    {
     "name": "stderr",
     "output_type": "stream",
     "text": [
      "\u001b[32m\u001b[1m    Updating\u001b[22m\u001b[39m registry at `~/.julia/registries/General.toml`\n",
      "\u001b[32m\u001b[1m   Resolving\u001b[22m\u001b[39m package versions...\n",
      "\u001b[32m\u001b[1m   Installed\u001b[22m\u001b[39m Clp ─ v1.0.0\n",
      "\u001b[32m\u001b[1m    Updating\u001b[22m\u001b[39m `~/.julia/environments/v1.7/Project.toml`\n",
      " \u001b[90m [e2554f3b] \u001b[39m\u001b[92m+ Clp v1.0.0\u001b[39m\n",
      "\u001b[32m\u001b[1m    Updating\u001b[22m\u001b[39m `~/.julia/environments/v1.7/Manifest.toml`\n",
      " \u001b[90m [e2554f3b] \u001b[39m\u001b[92m+ Clp v1.0.0\u001b[39m\n",
      "\u001b[32m\u001b[1mPrecompiling\u001b[22m\u001b[39m project...\n",
      "\u001b[32m  ✓ \u001b[39mClp\n",
      "  1 dependency successfully precompiled in 7 seconds (206 already precompiled, 1 skipped during auto due to previous errors)\n"
     ]
    }
   ],
   "source": [
    "]add Clp"
   ]
  },
  {
   "cell_type": "code",
   "execution_count": 14,
   "id": "f0a4a20c",
   "metadata": {},
   "outputs": [
    {
     "data": {
      "text/latex": [
       "$$ \\begin{aligned}\n",
       "\\max\\quad & x_{1} + x_{2} + x_{3}\\\\\n",
       "\\text{Subject to} \\quad & -x_{1} + x_{2} - 2 x_{3} \\geq 5.0\\\\\n",
       " & x_{1} + x_{2} + 2 x_{3} \\leq 10.0\\\\\n",
       " & x_{1} \\geq 0.0\\\\\n",
       " & x_{2} \\geq 0.0\\\\\n",
       " & x_{3} \\geq 0.0\\\\\n",
       "\\end{aligned} $$"
      ]
     },
     "metadata": {},
     "output_type": "display_data"
    },
    {
     "name": "stdout",
     "output_type": "stream",
     "text": [
      "value.(x) = [0.0, 10.0, 0.0]\n",
      "objective_value(m) = 10.0\n",
      "Coin0506I Presolve 0 (-2) rows, 0 (-3) columns and 0 (-6) elements\n",
      "Clp3002W Empty problem - 0 rows, 0 columns and 0 elements\n",
      "Clp0000I Optimal - objective value 10\n",
      "Coin0511I After Postsolve, objective 10, infeasibilities - dual 0 (0), primal 0 (0)\n",
      "Clp0032I Optimal objective 10 - 0 iterations time 0.002, Presolve 0.00\n"
     ]
    },
    {
     "data": {
      "text/plain": [
       "10.0"
      ]
     },
     "execution_count": 14,
     "metadata": {},
     "output_type": "execute_result"
    }
   ],
   "source": [
    "using JuMP, Clp\n",
    "m = Model(Clp.Optimizer)\n",
    "@variable(m, x[1:3] >=0)\n",
    "@objective(m, Max, sum(x))\n",
    "@constraint(m, x[1] + x[2] + 2 * x[3] <= 10)\n",
    "@constraint(m, -x[1] + x[2] - 2 * x[3] >= 5)\n",
    "print(m)\n",
    "optimize!(m)\n",
    "@show value.(x)\n",
    "@show objective_value(m)"
   ]
  },
  {
   "cell_type": "code",
   "execution_count": null,
   "id": "5dfdd4fe",
   "metadata": {},
   "outputs": [],
   "source": []
  }
 ],
 "metadata": {
  "kernelspec": {
   "display_name": "Julia 1.7.2",
   "language": "julia",
   "name": "julia-1.7"
  },
  "language_info": {
   "file_extension": ".jl",
   "mimetype": "application/julia",
   "name": "julia",
   "version": "1.7.2"
  }
 },
 "nbformat": 4,
 "nbformat_minor": 5
}
